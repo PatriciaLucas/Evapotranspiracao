{
  "nbformat": 4,
  "nbformat_minor": 0,
  "metadata": {
    "colab": {
      "name": "Calcula_ETo.ipynb",
      "provenance": [],
      "collapsed_sections": [],
      "include_colab_link": true
    },
    "kernelspec": {
      "name": "python3",
      "display_name": "Python 3"
    }
  },
  "cells": [
    {
      "cell_type": "markdown",
      "metadata": {
        "id": "view-in-github",
        "colab_type": "text"
      },
      "source": [
        "<a href=\"https://colab.research.google.com/github/PatriciaLucas/Evapotranspiracao/blob/master/Gera_Serie_ETo.ipynb\" target=\"_parent\"><img src=\"https://colab.research.google.com/assets/colab-badge.svg\" alt=\"Open In Colab\"/></a>"
      ]
    },
    {
      "cell_type": "markdown",
      "metadata": {
        "id": "lwhTZrIkZeGh",
        "colab_type": "text"
      },
      "source": [
        "#Gera série temporal de Evapotranspiração de Referência\n",
        "\n",
        "####Patrícia de Oliveira e Lucas\n",
        "Referência: FAO 56 de 2006"
      ]
    },
    {
      "cell_type": "code",
      "metadata": {
        "id": "gyX6qE1eQhkQ",
        "colab_type": "code",
        "colab": {}
      },
      "source": [
        "import pandas as pd\n",
        "from google.colab import files\n",
        "import matplotlib as plt\n",
        "import matplotlib.pyplot as plt\n",
        "import math\n",
        "import numpy as np\n",
        "from datetime import datetime\n",
        "import seaborn as sns"
      ],
      "execution_count": 0,
      "outputs": []
    },
    {
      "cell_type": "markdown",
      "metadata": {
        "id": "_IqclTXhZtao",
        "colab_type": "text"
      },
      "source": [
        "##Upload da base de dados do INMET já ajustada\n",
        "\n",
        "Dados climáticos usados como entrada: \n",
        "\n",
        "\n",
        "*   Temperaturas (máxima, mínima e média) do ar em °C - Tmax, Tmin e Tmean\n",
        "*   Umidade Relativa Média - RH\n",
        "*   Insolação em Horas - I\n",
        "*   Velocidade do vento em m/s - U2\n",
        "*   Dia do ano - J\n",
        "\n"
      ]
    },
    {
      "cell_type": "code",
      "metadata": {
        "id": "KRGNlVuDYeA9",
        "colab_type": "code",
        "colab": {}
      },
      "source": [
        "uploaded = files.upload()"
      ],
      "execution_count": 0,
      "outputs": []
    },
    {
      "cell_type": "code",
      "metadata": {
        "id": "PuynPdxXeNRV",
        "colab_type": "code",
        "outputId": "a64e5164-c54c-4991-90e2-413b94e49a94",
        "colab": {
          "base_uri": "https://localhost:8080/",
          "height": 221
        }
      },
      "source": [
        "dataset =  pd.read_csv('setelagoas_para calcular eto.csv',delimiter=';' )\n",
        "data = np.asarray(dataset)\n",
        "print('TAMANHO DA BASE DE DADOS: ',data.shape[0])\n",
        "dataset.head()"
      ],
      "execution_count": 0,
      "outputs": [
        {
          "output_type": "stream",
          "text": [
            "TAMANHO DA BASE DE DADOS:  8400\n"
          ],
          "name": "stdout"
        },
        {
          "output_type": "execute_result",
          "data": {
            "text/html": [
              "<div>\n",
              "<style scoped>\n",
              "    .dataframe tbody tr th:only-of-type {\n",
              "        vertical-align: middle;\n",
              "    }\n",
              "\n",
              "    .dataframe tbody tr th {\n",
              "        vertical-align: top;\n",
              "    }\n",
              "\n",
              "    .dataframe thead th {\n",
              "        text-align: right;\n",
              "    }\n",
              "</style>\n",
              "<table border=\"1\" class=\"dataframe\">\n",
              "  <thead>\n",
              "    <tr style=\"text-align: right;\">\n",
              "      <th></th>\n",
              "      <th>Data</th>\n",
              "      <th>Tmax</th>\n",
              "      <th>Tmin</th>\n",
              "      <th>I</th>\n",
              "      <th>Tmean</th>\n",
              "      <th>UR</th>\n",
              "      <th>V</th>\n",
              "      <th>J</th>\n",
              "    </tr>\n",
              "  </thead>\n",
              "  <tbody>\n",
              "    <tr>\n",
              "      <th>0</th>\n",
              "      <td>1993-01-01</td>\n",
              "      <td>31.3</td>\n",
              "      <td>15.4</td>\n",
              "      <td>11.3</td>\n",
              "      <td>22.86</td>\n",
              "      <td>64.75</td>\n",
              "      <td>0.740445</td>\n",
              "      <td>1</td>\n",
              "    </tr>\n",
              "    <tr>\n",
              "      <th>1</th>\n",
              "      <td>1993-01-02</td>\n",
              "      <td>33.8</td>\n",
              "      <td>16.1</td>\n",
              "      <td>11.2</td>\n",
              "      <td>23.80</td>\n",
              "      <td>64.50</td>\n",
              "      <td>0.500000</td>\n",
              "      <td>2</td>\n",
              "    </tr>\n",
              "    <tr>\n",
              "      <th>2</th>\n",
              "      <td>1993-01-03</td>\n",
              "      <td>32.1</td>\n",
              "      <td>17.0</td>\n",
              "      <td>9.5</td>\n",
              "      <td>23.92</td>\n",
              "      <td>67.50</td>\n",
              "      <td>1.119698</td>\n",
              "      <td>3</td>\n",
              "    </tr>\n",
              "    <tr>\n",
              "      <th>3</th>\n",
              "      <td>1993-01-04</td>\n",
              "      <td>28.9</td>\n",
              "      <td>18.8</td>\n",
              "      <td>6.4</td>\n",
              "      <td>23.38</td>\n",
              "      <td>73.75</td>\n",
              "      <td>0.830743</td>\n",
              "      <td>4</td>\n",
              "    </tr>\n",
              "    <tr>\n",
              "      <th>4</th>\n",
              "      <td>1993-01-05</td>\n",
              "      <td>27.7</td>\n",
              "      <td>18.6</td>\n",
              "      <td>2.5</td>\n",
              "      <td>21.82</td>\n",
              "      <td>83.25</td>\n",
              "      <td>0.559849</td>\n",
              "      <td>5</td>\n",
              "    </tr>\n",
              "  </tbody>\n",
              "</table>\n",
              "</div>"
            ],
            "text/plain": [
              "         Data  Tmax  Tmin     I  Tmean     UR         V  J\n",
              "0  1993-01-01  31.3  15.4  11.3  22.86  64.75  0.740445  1\n",
              "1  1993-01-02  33.8  16.1  11.2  23.80  64.50  0.500000  2\n",
              "2  1993-01-03  32.1  17.0   9.5  23.92  67.50  1.119698  3\n",
              "3  1993-01-04  28.9  18.8   6.4  23.38  73.75  0.830743  4\n",
              "4  1993-01-05  27.7  18.6   2.5  21.82  83.25  0.559849  5"
            ]
          },
          "metadata": {
            "tags": []
          },
          "execution_count": 3
        }
      ]
    },
    {
      "cell_type": "markdown",
      "metadata": {
        "id": "0OIitjnjZzyn",
        "colab_type": "text"
      },
      "source": [
        "##Constantes\n",
        "\n",
        "Dados da estação meteorológica usados como entrada:\n",
        "\n",
        "*   Latitude em radianos\n",
        "*   Altitude em metros\n",
        "\n",
        "Constante Solar é de  0.0820 $MJ\\ m^{-2}\\ {min}^{-1}$\n",
        "\n",
        "Constante de Stefan Boltzmann é de 0.000000004903 $MJ\\ m^{-2}\\ {dia}^{-1}$\n"
      ]
    },
    {
      "cell_type": "code",
      "metadata": {
        "id": "nL46uBnFZFCv",
        "colab_type": "code",
        "colab": {}
      },
      "source": [
        "latitude_graus = -19.46 #--em graus\n",
        "altitude = 732.00  #--em metros\n",
        "\n",
        "latitude = math.pi/180 * latitude_graus #Converte a latitude de graus para radianos\n",
        "\n",
        "#: Solar constant [ MJ m-2 min-1]\n",
        "Gsc = 0.0820\n",
        "\n",
        "# Stefan Boltzmann constant [MJ K-4 m-2 dia-1]\n",
        "sigma = 0.000000004903"
      ],
      "execution_count": 0,
      "outputs": []
    },
    {
      "cell_type": "markdown",
      "metadata": {
        "id": "p_DZgliGi79_",
        "colab_type": "text"
      },
      "source": [
        "##Funções"
      ]
    },
    {
      "cell_type": "markdown",
      "metadata": {
        "id": "MYymK_QijjDQ",
        "colab_type": "text"
      },
      "source": [
        "###Pressão Atmosférica (P): \n",
        "\n",
        "Equação 7 (FAO 56):\n",
        "\n",
        "$P = 101.3 \\left(\\frac{293-0.0065Z}{293}\\right)^{5.26}$\n",
        "\n",
        "onde: \n",
        "\n",
        "$P$ = Pressão atmosférica [$ kPa$]\n",
        "\n",
        "$Z$ = altitude [$m$]"
      ]
    },
    {
      "cell_type": "code",
      "metadata": {
        "id": "51dfzL45kkHm",
        "colab_type": "code",
        "colab": {}
      },
      "source": [
        "def Pressao_atm(altitude):\n",
        "    \"\"\"\n",
        "    Pressão Atmosférica (P): Equação 7 (FAO 56)\n",
        "    :parâmetro altitude: altitude acima do nível do mar [m]\n",
        "    :return: pressão atmosférica [kPa]\n",
        "    \"\"\"\n",
        "    tmp = (293.0 - (0.0065 * altitude)) / 293.0\n",
        "    return math.pow(tmp, 5.26) * 101.3"
      ],
      "execution_count": 0,
      "outputs": []
    },
    {
      "cell_type": "markdown",
      "metadata": {
        "id": "b6Q3uqrhnedG",
        "colab_type": "text"
      },
      "source": [
        "### Constante Psicrométrica ($\\gamma$)\n",
        "Equação 8 (FAO 56, 2006)\n",
        "\n",
        "$\\gamma = 0.000663 P $\n",
        "\n",
        "onde: \n",
        "\n",
        "$\\gamma$ = constante psicrométrica [$kPa \\ ºC^{-1}$]\n",
        "\n",
        "$P$ = pressão atmosférica [$kPa$]"
      ]
    },
    {
      "cell_type": "code",
      "metadata": {
        "id": "3372lDiBDwKr",
        "colab_type": "code",
        "colab": {}
      },
      "source": [
        "def psicrometrica(pressao_atm):\n",
        "    \"\"\"\n",
        "    Constante Psicrométrica ( γ ): Equação 8 (FAO 56, 2006)\n",
        "    :parâmetro pressao_atm: pressão atmosférica [kPa]. Estimada pela função pressao_atm().\n",
        "    :return: Constante psicrométrica [kPa C-1].\n",
        "    \"\"\"\n",
        "    return 0.000665 * pressao_atm"
      ],
      "execution_count": 0,
      "outputs": []
    },
    {
      "cell_type": "markdown",
      "metadata": {
        "id": "TaoHeD4xErYK",
        "colab_type": "text"
      },
      "source": [
        "### Pressão de vapor saturado médio ($e_s$) à temperatura do ar\n",
        "Equação 11 (FAO 56, 2006)\n",
        "\n",
        "$e_s =  0.6108^{\\frac{17.27 T}{T+237.3}}$\n",
        "\n",
        "onde:\n",
        "\n",
        "$e_s$ = pressão de vapor saturado médio [$kPa$]\n",
        "\n",
        "$T$ = temperatura [$ºC$]\n",
        "\n",
        "OBS: Calcular para a temperatura máxima, para a mínima e tirar a média entre as duas (Equação 12)."
      ]
    },
    {
      "cell_type": "code",
      "metadata": {
        "id": "GCAd2nlPGClL",
        "colab_type": "code",
        "colab": {}
      },
      "source": [
        "def Es(t):\n",
        "    \"\"\"\n",
        "    Pressão de vapor saturado médio ( es ) à temperatura do ar: Equação 11 (FAO 56)\n",
        "    :parâmetro t: temperatura [C]\n",
        "    :return: pressão de vapor saturado [kPa]\n",
        "    \"\"\"\n",
        "    return 0.6108 * math.exp((17.27 * t) / (t + 237.3))"
      ],
      "execution_count": 0,
      "outputs": []
    },
    {
      "cell_type": "code",
      "metadata": {
        "id": "e4z-r2_nGoSJ",
        "colab_type": "code",
        "colab": {}
      },
      "source": [
        "def Es_medio(tmin, tmax):\n",
        "    \"\"\"\n",
        "    :parâmetro tmin: temperatura mínima [C]\n",
        "    :parâmetro tmax: temperatura máxima [C]\n",
        "    :return: pressão média de vapor saturado [kPa]\n",
        "    \"\"\"\n",
        "    return (Es(tmin) + Es(tmax)) / 2.0"
      ],
      "execution_count": 0,
      "outputs": []
    },
    {
      "cell_type": "markdown",
      "metadata": {
        "id": "k-iRb0_wIsKB",
        "colab_type": "text"
      },
      "source": [
        "###Declividade da curva de pressão do valor de saturação ($\\Delta$)\n",
        "Equação 13 (FAO 56, 2006)\n",
        "\n",
        "$\\Delta = \\frac{4098 \\left[0.6108^{\\frac{17.27T}{T+237.3}}\\right]}{(T+237.3)^2}$\n",
        "\n",
        "onde:\n",
        "\n",
        "$\\Delta$ = declividade da curva de pressão do valor de saturação [$kPa \\ ºC^{-1}$]\n",
        "\n",
        "$T$ = temperatura média [$ºC$]"
      ]
    },
    {
      "cell_type": "code",
      "metadata": {
        "id": "BWMtPMdqO3T6",
        "colab_type": "code",
        "colab": {}
      },
      "source": [
        "def Delta(tmedia):\n",
        "    \"\"\"\n",
        "    Declividade da curva de pressão do valor de saturação ( Δ ): Equação 13 (FAO 56)\n",
        "    :parâmetro t: Temperatura média [C].\n",
        "    :return: declividade da curva de pressão do valor de saturação [kPa C-1]\n",
        "    \"\"\"\n",
        "    tmp = 4098 * (0.6108 * math.exp((17.27 * tmedia) / (tmedia + 237.3)))\n",
        "    return tmp / math.pow((tmedia + 237.3), 2)"
      ],
      "execution_count": 0,
      "outputs": []
    },
    {
      "cell_type": "markdown",
      "metadata": {
        "id": "hVX70A0kPXHs",
        "colab_type": "text"
      },
      "source": [
        "###Pressão de vapor atual ($e_a$) usando umidade relativa média ($RH$)\n",
        "\n",
        "\n",
        "Equação 19 (FAO 56, 2006)\n",
        "\n",
        "$e_a = \\frac{RH}{100}e_s$\n",
        "\n",
        "onde: \n",
        "\n",
        "$e_a$ = pressão de vapor atual  [$kPa$]\n",
        "\n",
        "$RH$ = é a umidade relativa média [%]\n",
        "\n",
        "\n",
        "---\n",
        "\n",
        "OBS: em caso de ausência de RH, será usada a Equação 48 (FAO 56, 2006)\n",
        "\n",
        "\n",
        "$e_a = 0.611^\\left(\\frac{17.27 T_{min}}{T_{min} + 237.3}\\right)$\n",
        "\n",
        "$e_a$ = pressão de vapor atual  [$kPa$]\n",
        "\n",
        "$T_{min}$ = temperatura mínima  [$ºC$]\n"
      ]
    },
    {
      "cell_type": "code",
      "metadata": {
        "id": "IiC22J1HP7Vy",
        "colab_type": "code",
        "colab": {}
      },
      "source": [
        "def Ea(tmin, tmax, RH):\n",
        "    \"\"\"\n",
        "    Pressão de vapor atual ( ea ) usando umidade relativa média ( RH ): Equação 19 (FAO 56)\n",
        "    OBS: em caso de ausência de RH, será usada a Equação 48 (FAO 56)\n",
        "    :parâmetro tmin: temperatura mínima [C]\n",
        "    :parâmetro tmax: temperatura máxima [C]\n",
        "    :parâmetro RH: umidade relativa média [%]\n",
        "    :return: pressão de vapor atual [kPa]\n",
        "    \"\"\"\n",
        "    if np.isnan(RH):\n",
        "      ea = 0.611 * math.exp((17.27 * tmin) / (tmin + 237.3))\n",
        "    else:\n",
        "      ea = (RH * Es_medio(tmax,tmin))/ 100.0\n",
        "    return ea\n"
      ],
      "execution_count": 0,
      "outputs": []
    },
    {
      "cell_type": "markdown",
      "metadata": {
        "id": "C8TBdNtcSaKj",
        "colab_type": "text"
      },
      "source": [
        "###Radiação extraterrestre para períodos diários ($R_a$)\n",
        "Equação 21 (FAO 56, 2006)\n",
        "\n",
        "$R_a = \\frac{24.6}{\\pi} G_{sc} d_r [\\omega_s sen(\\phi) sen(\\delta) + cos(\\phi) cos(\\delta) sen(\\omega_s)]$\n",
        "\n",
        "onde: \n",
        "\n",
        "$R_a$ = radiação extraterrestre para períodos diários  [$MJ \\ m^{-2} \\ dia^{-1}$]\n",
        "\n",
        "$G_{sc}$ = constante solar  [$MJ \\ m^{-2} \\ min^{-1}$]\n",
        "\n",
        "$d_r$ = inverso da distância relativa da terra-sol (Equação 23)\n",
        "\n",
        "$\\delta$ = declinação do sol [rad] (Equação 24)\n",
        "\n",
        "$\\omega_s$ = ângulo horário do pôr-do-sol  [rad] (Equação 25)\n",
        "\n",
        "$\\phi$ = latitude [rad]"
      ]
    },
    {
      "cell_type": "code",
      "metadata": {
        "id": "ePCtmAM3VWxO",
        "colab_type": "code",
        "colab": {}
      },
      "source": [
        "def Ra(latitude, declinacao_sol, omega, dr):\n",
        "    \"\"\"\n",
        "    Radiação extraterrestre para períodos diários ( Ra ): Equação 21 (FAO 56)\n",
        "    :parâmetro latitude: latitude [rad]\n",
        "    :parâmetro declinacao_sol: declinação do sol [rad]. Calculada pela função declinacao_sol().\n",
        "    :parâmetro omega: ângulo horário pôr-do-sol [rad]. Calculado pela função omega().\n",
        "    :parâmetro dr: inverso da distância relativa da terra-sol. Calculada pela função dr().\n",
        "    :return: Radiação extraterrestre para períodos diários [MJ m-2 day-1]\n",
        "    \"\"\"\n",
        "\n",
        "    tmp1 = (24.0 * 60.0) / math.pi\n",
        "    tmp2 = omega * math.sin(latitude) * math.sin(declinacao_sol)\n",
        "    tmp3 = math.cos(latitude) * math.cos(declinacao_sol) * math.sin(omega)\n",
        "    return tmp1 * Gsc * dr * (tmp2 + tmp3)"
      ],
      "execution_count": 0,
      "outputs": []
    },
    {
      "cell_type": "code",
      "metadata": {
        "id": "sl-UOIa4VpoT",
        "colab_type": "code",
        "colab": {}
      },
      "source": [
        "def Declinacao_sol(J):\n",
        "    \"\"\"\n",
        "    :parâmetro J: dia do ano, inteiro de 1 a 365 ou 366.\n",
        "    :return: declinação solar [rad]\n",
        "    \"\"\"\n",
        "    return float(0.409) * math.sin(((float(2.0) * math.pi / float(365.0)) * J - float(1.39)))"
      ],
      "execution_count": 0,
      "outputs": []
    },
    {
      "cell_type": "code",
      "metadata": {
        "id": "Mr1YWCNmWgRZ",
        "colab_type": "code",
        "colab": {}
      },
      "source": [
        "def Omega(latitude, declinacao_sol):\n",
        "    \"\"\"\n",
        "    :parâmetro latitude: latitude [rad].\n",
        "    :parâmetro declinacao_sol: declinação solar [rad]. Calculada pela função declinacao_sol().\n",
        "    :return: ângulo horário pôr-do-sol [rad].\n",
        "    \"\"\"\n",
        "\n",
        "    cos_sha = -math.tan(latitude) * math.tan(declinacao_sol)\n",
        "    return math.acos(min(max(float(cos_sha), float(-1.0)), float(1.0)))"
      ],
      "execution_count": 0,
      "outputs": []
    },
    {
      "cell_type": "code",
      "metadata": {
        "id": "rl9V1E5rXayk",
        "colab_type": "code",
        "colab": {}
      },
      "source": [
        "def Dr(J):\n",
        "    \"\"\"\n",
        "    :parâmetro J: dia do ano, inteiro de 1 a 365 ou 366.\n",
        "    :return: inverso da distância relativa da terra-sol.\n",
        "    \"\"\"\n",
        "    return 1 + (0.033 * math.cos((2.0 * math.pi / 365.0) * J))"
      ],
      "execution_count": 0,
      "outputs": []
    },
    {
      "cell_type": "markdown",
      "metadata": {
        "id": "E_qM3fGWYO67",
        "colab_type": "text"
      },
      "source": [
        "###Duração máxima de insolação no dia (N)\n",
        "Equação 34 (FAO 56, 2006)\n",
        "\n",
        "$N = \\frac{24}{\\pi} \\omega_s$\n",
        "\n",
        "onde:\n",
        "\n",
        "$N$ = duração máxima de insolação no dia [h]\n",
        "\n",
        "$\\omega_s$ =  ângulo horário do pôr-do-sol [rad]"
      ]
    },
    {
      "cell_type": "code",
      "metadata": {
        "id": "0VZy4cE9ZFe-",
        "colab_type": "code",
        "colab": {}
      },
      "source": [
        "def N_insolacao(omega):\n",
        "    \"\"\"\n",
        "    Duração máxima de insolação no dia (N): Equação 34 (FAO 56)\n",
        "    :parâmetro omega: ângulo horário do pôr-do-sol [rad]. Calculado pela função omega()\n",
        "    :return: duração máxima de insolação no dia [h].\n",
        "    \"\"\"\n",
        "    return (24.0 / math.pi) * omega"
      ],
      "execution_count": 0,
      "outputs": []
    },
    {
      "cell_type": "markdown",
      "metadata": {
        "id": "WIV8iIa6ZRQx",
        "colab_type": "text"
      },
      "source": [
        "###Radiação Solar ($R_s$)\n",
        "Equação 35 (FAO 56, 2006)\n",
        "\n",
        "$R_s = (a_s + b_s \\frac{n}{N}) R_a$\n",
        "\n",
        "onde: \n",
        "\n",
        "$R_s$ = radiação solar [$MJ \\ m^{-2} \\ dia^{-1}$]\n",
        "\n",
        "$n$ = insolação (duração real da luz do dia) [$h$]\n",
        "\n",
        "$N$ = duração máxima de insolação no dia [$h$]\n",
        "\n",
        "$R_a$ = radiação extraterrestre [$MJ \\ m^{-2} \\ dia^{-1}$]\n",
        "\n",
        "$a_s$ e $b_s$  são 0.25 e 0.5 respectivamente. Esses valores são recomendados quando a radiação solar não está disponível. \n",
        "\n",
        "\n",
        "---\n",
        "\n",
        "Equação 50 (FAO 56, 2006)\n",
        "\n",
        "$R_s = k_{Rs} \\sqrt{T_{max} - T_{min}} \\ R_a$\n",
        "\n",
        "onde:\n",
        "\n",
        "$R_s$ = radiação solar [$MJ \\ m^{-2} \\ dia^{-1}$]\n",
        "\n",
        "$T_{max}$ = temperatura máxima  [$ºC$]\n",
        "\n",
        "$T_{min}$ = temperatura mínima  [$ºC$]\n",
        "\n",
        "$k_{Rs}$ = coeficiente de ajuste (0,16 .. 0,19) [$°C^{-0,5}$].  Para localidades interiores, onde a massa de terra domina, e as massas de ar não são influenciadas por uma corpo grande água, $k_{Rs} ≈ 0,16$. "
      ]
    },
    {
      "cell_type": "code",
      "metadata": {
        "id": "nHvM-ab2hICn",
        "colab_type": "code",
        "colab": {}
      },
      "source": [
        "def Rs(N, n, ra, tmax, tmin):\n",
        "    \"\"\"\n",
        "    Radiação Solar ( Rs ): Equação 35 (FAO 56)\n",
        "    OBS: em caso de ausência de n, será usada a Equação 50 (FAO 56)\n",
        "    :parâmetro N: duração máxima de insolação no dia [h]. Pode ser calculada pela função N.\n",
        "    :parâmetro n: Insolação [h].\n",
        "    :parâmetro Ra: extraterrestrial radiation [MJ m-2 day-1]. Calculada pela função Ra.\n",
        "    :return: radiação solar [MJ m-2 day-1]\n",
        "    \"\"\"\n",
        "    if np.isnan(n):\n",
        "      rs = 0.16 * np.sqrt(tmax - tmin) * ra\n",
        "    else:\n",
        "      rs = (0.5 * n / N + 0.25) * ra\n",
        "    return rs"
      ],
      "execution_count": 0,
      "outputs": []
    },
    {
      "cell_type": "markdown",
      "metadata": {
        "id": "y2BQWPoQjcqS",
        "colab_type": "text"
      },
      "source": [
        "###Radiação Solar de Céu Claro ($R_{so}$) para valores não calibrados de $a_s$ e $b_s$\n",
        "\n",
        "Equação 37 (FAO 56, 2006)\n",
        "\n",
        "$R_{so} = (0.75 + 2 \\cdot 10^{-5} Z) R_a$\n",
        "\n",
        "onde:\n",
        "\n",
        "$R_{so}$ = radiação solar de céu claro [$MJ \\ m^{-2} \\ dia^{-1}$]\n",
        "\n",
        "$Z$ = altitude acima do nível do mar [m]\n",
        "\n",
        "$R_a$ = radiação extraterrestre [$MJ \\ m^{-2} \\ dia^{-1}$]"
      ]
    },
    {
      "cell_type": "code",
      "metadata": {
        "id": "LS1-QUKIkGsS",
        "colab_type": "code",
        "colab": {}
      },
      "source": [
        "def Rso(altitude, ra):\n",
        "    \"\"\"\n",
        "    Radiação Solar de Céu Claro ( Rso ) para valores não calibrados de as e bs: Equação 37 (FAO 56)\n",
        "    :parâmetro altitude: altitude acima do nível do mar [m]\n",
        "    :parâmetro ra: extraterrestrial radiation [MJ m-2 day-1]. Calculada pela função Ra.\n",
        "    :return: radiação solar de céu claro [MJ m-2 day-1]\n",
        "    \"\"\"\n",
        "    return (0.00002 * altitude + 0.75) * ra"
      ],
      "execution_count": 0,
      "outputs": []
    },
    {
      "cell_type": "markdown",
      "metadata": {
        "id": "JxP2Gd7_kwnC",
        "colab_type": "text"
      },
      "source": [
        "###Radiação de onda curta líquida ou solar líquida ($R_{ns}$)\n",
        "Equação 38 (FAO 56, 2006)\n",
        "\n",
        "$R_{ns} = (1-\\alpha) R_s$\n",
        "\n",
        "onde: \n",
        "\n",
        "$R_{ns}$ = radiação de onda curta líquida [$MJ \\ m^{-2} \\ dia^{-1}$]\n",
        "\n",
        "$R_s$ = radiação solar [$MJ \\ m^{-2} \\ dia^{-1}$]\n",
        "\n",
        "$\\alpha$ = albedo ou coeficiente de reflexão do dossel, é de 0.23 para a cultura de referência grama hipotética."
      ]
    },
    {
      "cell_type": "code",
      "metadata": {
        "id": "lgcxCo8jlYnt",
        "colab_type": "code",
        "colab": {}
      },
      "source": [
        "def Rns(rs, albedo=0.23):\n",
        "    \"\"\"\n",
        "    Radiação de onda curta líquida ou solar líquida ( Rns ): Equação 38 (FAO 56)\n",
        "    :parâmetro rs: radiação solar [MJ m-2 day-1]. Calculada pela função Rs().\n",
        "    :parâmetro albedo: coeficiente de reflexão do dossel,  é de 0.23 para a cultura de referência grama hipotética.\n",
        "    :return: radiação de onda curta líquida [MJ m-2 day-1].\n",
        "    \"\"\"\n",
        "    return (1 - albedo) * rs"
      ],
      "execution_count": 0,
      "outputs": []
    },
    {
      "cell_type": "markdown",
      "metadata": {
        "id": "DbqSW-Zslr80",
        "colab_type": "text"
      },
      "source": [
        "###Radiação de onda longa líquida ($R_{nl}$)\n",
        "Equação 39 (FAO 56, 2006)\n",
        "\n",
        "$R_{nl} = \\sigma \\left[\\frac{T_{max,k^4}+T_{min,k^4}}{2}\\right](0.34 - 0.14 \\sqrt{e_a})(1.35 \\frac{R_s}{R_{so}} - 0.35)$\n",
        "\n",
        "onde: \n",
        "\n",
        "$R_{nl}$ = radiação de onda longa líquida [$MJ \\ m^{-2} \\ dia^{-1}$]\n",
        "\n",
        "$\\sigma$ = constante de Stefan-Boltzmann [$4.903 \\cdot 10^{-9} MJ K^{-4} m^{-2} dia^{-1}$]\n",
        "\n",
        "$T_{max,k^{-4}}$ = Temperatura absoluta máxima durante 24h em Kelvin\n",
        "\n",
        "$T_{min,k^{-4}}$ = Temperatura absoluta mínima durante 24h em Kelvin\n",
        "\n",
        "$e_a$ = pressão de vapor atual  [$kPa$]\n",
        "\n",
        "$\\frac{R_s}{R_{so}}$ = Radiação relativa de onda curta (deve ser < = 1.0)"
      ]
    },
    {
      "cell_type": "code",
      "metadata": {
        "id": "IUlF-y8aqyhB",
        "colab_type": "code",
        "colab": {}
      },
      "source": [
        "def Rnl(tmin, tmax, rs, rso, ea):\n",
        "    \"\"\"\n",
        "    Radiação de onda longa líquida ( Rnl ): Equação 39 (FAO 56)\n",
        "    :parâmetro tmin: Temperatura mínima absoluta [K]\n",
        "    :parâmetro tmax: Temperatura máxima absoluta [K]\n",
        "    :parâmetro Rs: radiação solar [MJ m-2 day-1]. Calculada pela função Rs().\n",
        "    :parâmetro Rso: radiação solar de céu claro [MJ m-2 day-1]. Calculada pela função Rso().\n",
        "    :parâmetro ea: pressão de vapor atual [kPa]. Calculada pela função Ea().\n",
        "    :return:  radiação de onda longa líquida [MJ m-2 day-1]\n",
        "    \"\"\"\n",
        "    tmax_k = tmax + 273.16 #----Converte a temperatura de °C para °K\n",
        "    tmin_k = tmin + 273.16 #----Converte a temperatura de °C para °K\n",
        "    \n",
        "    tmp1 = (sigma * ((math.pow(tmax_k, 4) + math.pow(tmin_k, 4)) / 2))\n",
        "    tmp2 = (0.34 - (0.14 * math.sqrt(ea)))\n",
        "    tmp3 = 1.35 * (rs / rso) - 0.35\n",
        "    return tmp1 * tmp2 * tmp3"
      ],
      "execution_count": 0,
      "outputs": []
    },
    {
      "cell_type": "markdown",
      "metadata": {
        "id": "AALpyOwSw7d4",
        "colab_type": "text"
      },
      "source": [
        "###Radiação líquida ($R_n$)\n",
        "Equação 40 (FAO 56, 2006)\n",
        "\n",
        "$R_n = R_{ns} - R_{nl}$"
      ]
    },
    {
      "cell_type": "code",
      "metadata": {
        "id": "QhmH3OlJxQrY",
        "colab_type": "code",
        "colab": {}
      },
      "source": [
        "def Rn(rns, rnl):\n",
        "    \"\"\"\n",
        "    Radiação líquida ( Rn ): Equação 40 (FAO 56)\n",
        "    :parâmetro rns: radiação de onda curta líquida [MJ m-2 day-1]. Calculada pela função Rns().\n",
        "    :parâmetro rnl: radiação de onda longa líquida [MJ m-2 day-1]. Calculada pela função Rnl().\n",
        "    :return: radiação líquida [MJ m-2 day-1].\n",
        "    \"\"\"\n",
        "    return rns - rnl"
      ],
      "execution_count": 0,
      "outputs": []
    },
    {
      "cell_type": "markdown",
      "metadata": {
        "id": "tnZz_5chxf7B",
        "colab_type": "text"
      },
      "source": [
        "###Fluxo de calor do solo (G) para o período de 1 dia ou 10 dias\n",
        "\n",
        "Equação 42 (FAO 56, 2006)\n",
        "\n",
        "G = 0"
      ]
    },
    {
      "cell_type": "code",
      "metadata": {
        "id": "LXSCgN15xwgQ",
        "colab_type": "code",
        "colab": {}
      },
      "source": [
        "G = 0"
      ],
      "execution_count": 0,
      "outputs": []
    },
    {
      "cell_type": "markdown",
      "metadata": {
        "id": "9YOpH8_EyFkI",
        "colab_type": "text"
      },
      "source": [
        "###Evapotranspiração de referência (ETo)\n",
        "Equação 6 (FAO 56, 2006)\n",
        "\n",
        ">>>$ET_o = \\frac{0.408 \\Delta (R_n - G) + \\gamma \\frac{900}{T+273}u_2 (e_s - e_a)}{\\Delta + \\gamma (1+0.34 u_2)}$\n",
        "\n",
        "\n",
        "\n",
        "\n",
        "\n",
        "onde:\n",
        "\n",
        "$ET_o$ = Evapotranspiração de referência [$mm \\ dia^{-1}$]\n",
        "\n",
        "$R_n$ = Radiação líquida à superfície de cultura [$MJ \\ m^{-2} \\ dia^{-1}$]\n",
        "\n",
        "$G$ = Densidade do fluxo de calor do solo [$MJ \\ m^{-2} \\ dia^{-1}$]\n",
        "\n",
        "$T$ = Temperatura média diária a 2m de altura [ºC]\n",
        "\n",
        " $u_2$ = Velocidade do vento a 2m de altura [$m/s^{-1}$]\n",
        " \n",
        " $e_s$ = Pressão do vapor de saturação [$kPa$]\n",
        " \n",
        " $e_a$ = Pressão do vapor atual  [$kPa$]\n",
        " \n",
        " $(e_s - e_a)$ = Déficit de pressão do vapor de saturação  [$kPa$]\n",
        " \n",
        " $\\Delta$ = Declividade da curva de pressão do vapor  [$kPa \\ ºC^{-1}$]\n",
        " \n",
        " $\\gamma$ = Constante psicrométrica [$kPa \\ ºC^{-1}$]\n",
        "\n"
      ]
    },
    {
      "cell_type": "code",
      "metadata": {
        "id": "iDbYg2gFAMPh",
        "colab_type": "code",
        "colab": {}
      },
      "source": [
        "def fao56_penman_monteith(rn, t, u2, es, ea, delta, gamma, G):\n",
        "    \"\"\"\n",
        "    Evapotranspiração de referência (ETo): Equação 6 (FAO 56)\n",
        "    :parâmetro rn: Radiação líquida à superfície de cultura [MJ m-2 day-1]. Calculada pela função Rn().\n",
        "    :parâmetro t: Temperatura média diária a 2m de altura [K].\n",
        "    :parâmetro u2:  Velocidade do vento a 2m de altura [m s-1].\n",
        "    :parâmetro es: Pressão do vapor de saturação [kPa]. Calculada pela função Es().\n",
        "    :parâmetro ea: Pressão do vapor atual  [kPa]. Calculada pela função Ea().\n",
        "    :parâmetro delta: Declividade da curva de pressão do vapor [kPa degC-1]. Calculada pela função Delta().\n",
        "    :parâmetro gamma: Constante psicrométrica [kPa deg C]. Calculada pela função psicrométrica().\n",
        "    :parâmetro G: Densidade do fluxo de calor do solo  [MJ m-2 day-1].\n",
        "    :return: Evapotranspiração de referência (ETo) [mm day-1].\n",
        "    \"\"\"\n",
        "    a1 = (0.408 * (rn - G) * delta) + ((900 / (t + 273)) * u2 * gamma * (es - ea))\n",
        "    a2 =  a1 / (delta + (gamma * (1 + 0.34 * u2)))\n",
        "    return a2"
      ],
      "execution_count": 0,
      "outputs": []
    },
    {
      "cell_type": "markdown",
      "metadata": {
        "id": "HkV3JOHJVgEx",
        "colab_type": "text"
      },
      "source": [
        "###Gera a série temporal de $ET_o$"
      ]
    },
    {
      "cell_type": "code",
      "metadata": {
        "id": "kaCSqhEVWITt",
        "colab_type": "code",
        "colab": {}
      },
      "source": [
        "def gera_serie(data):\n",
        "  eto = []\n",
        "  for i in range(len(data)):\n",
        "    es = Es_medio(data[i,2],data[i,1]) #------------> Pressão do vapor de saturação\n",
        "    ea = Ea(data[i,2],data[i,1],data[i,5]) #--------> Pressão do vapor atual\n",
        "    delta = Delta(data[i,4]) #----------------------> Declividade da curva de pressão do vapor\n",
        "    pressao_atm = Pressao_atm(altitude) #-----------> Pressão atmosférica\n",
        "    gamma = psicrometrica(pressao_atm) #------------> Constante\n",
        "    declinacao_sol = Declinacao_sol(data[i,7]) #----> Declinação solar\n",
        "    omega = Omega(latitude, declinacao_sol) #-------> Ângulo horário pôr-do-sol\n",
        "    dr = Dr(data[i,7]) #----------------------------> Inverso da distância relativa da terra-sol\n",
        "    ra = Ra(latitude, declinacao_sol, omega, dr) #--> Radiação extraterrestre para períodos diários\n",
        "    N = N_insolacao(omega) #------------------------> Duração máxima de insolação no dia\n",
        "    rs = Rs(N, data[i,3], ra, data[i,1], data[i,2]) #---------------------> Radiação solar\n",
        "    rso = Rso(altitude, ra) #-----------------------> Radiação solar de céu claro\n",
        "    rns = Rns(rs, albedo=0.23) #--------------------> Radiação de onda curta líquida\n",
        "    rnl = Rnl(data[i,2],data[i,1], rs, rso, ea) #---> Radiação de onda longa líquida\n",
        "    rn = Rn(rns,rnl) #------------------------------> Radiação líquida\n",
        "    eto.append(fao56_penman_monteith(rn, data[i,4], data[i,6], es, ea, delta, gamma, G)) #---> Evapotranspiração\n",
        "  \n",
        "  return eto"
      ],
      "execution_count": 0,
      "outputs": []
    },
    {
      "cell_type": "code",
      "metadata": {
        "id": "2hR-_3cXvLJU",
        "colab_type": "code",
        "colab": {}
      },
      "source": [
        "eto = gera_serie(data)"
      ],
      "execution_count": 0,
      "outputs": []
    },
    {
      "cell_type": "code",
      "metadata": {
        "id": "jRUz-dw8voLz",
        "colab_type": "code",
        "outputId": "c2c40106-1ce8-4201-d486-7728f8b1d4b8",
        "colab": {
          "base_uri": "https://localhost:8080/",
          "height": 354
        }
      },
      "source": [
        "df = pd.DataFrame(eto,columns=['Eto'])\n",
        "df.insert(0,'Data', dataset.loc[:,'Data'])\n",
        "df.set_index('Data', inplace=True)\n",
        "#df.index = df.index.to_datetime('\"%y-%m-%d\"')\n",
        "df['2015-01-01':].plot(figsize=(16,5), color='k')"
      ],
      "execution_count": 0,
      "outputs": [
        {
          "output_type": "execute_result",
          "data": {
            "text/plain": [
              "<matplotlib.axes._subplots.AxesSubplot at 0x7f34a3e139b0>"
            ]
          },
          "metadata": {
            "tags": []
          },
          "execution_count": 28
        },
        {
          "output_type": "display_data",
          "data": {
            "image/png": "[encoded data removed]",
            "text/plain": [
              "<Figure size 1152x360 with 1 Axes>"
            ]
          },
          "metadata": {
            "tags": []
          }
        }
      ]
    },
    {
      "cell_type": "markdown",
      "metadata": {
        "id": "f_aJAPRWespj",
        "colab_type": "text"
      },
      "source": [
        "##Download da série temporal de Evapotranspiração de referência"
      ]
    },
    {
      "cell_type": "code",
      "metadata": {
        "id": "Nl16mD9IftNV",
        "colab_type": "code",
        "colab": {}
      },
      "source": [
        "eto_csv = df.to_csv('eto_csv',index=True)\n",
        "files.download('eto_csv') "
      ],
      "execution_count": 0,
      "outputs": []
    }
  ]
}